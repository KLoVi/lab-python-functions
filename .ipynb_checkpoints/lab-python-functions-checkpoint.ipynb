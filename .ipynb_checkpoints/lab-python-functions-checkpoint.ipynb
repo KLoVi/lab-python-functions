{
 "cells": [
  {
   "cell_type": "markdown",
   "id": "25d7736c-ba17-4aff-b6bb-66eba20fbf4e",
   "metadata": {},
   "source": [
    "# Lab | Functions"
   ]
  },
  {
   "cell_type": "markdown",
   "id": "0c581062-8967-4d93-b06e-62833222f930",
   "metadata": {
    "tags": []
   },
   "source": [
    "## Exercise: Managing Customer Orders with Functions\n",
    "\n",
    "In the previous exercise, you improved the code for managing customer orders by using loops and flow control. Now, let's take it a step further and refactor the code by introducing functions.\n",
    "\n",
    "Follow the steps below to complete the exercise:\n",
    "\n",
    "1. Define a function named `initialize_inventory` that takes `products` as a parameter. Inside the function, implement the code for initializing the inventory dictionary using a loop and user input.\n",
    "\n",
    "2. Define a function named `get_customer_orders` that takes no parameters. Inside the function, implement the code for prompting the user to enter the product names using a loop. The function should return the `customer_orders` set.\n",
    "\n",
    "3. Define a function named `update_inventory` that takes `customer_orders` and `inventory` as parameters. Inside the function, implement the code for updating the inventory dictionary based on the customer orders.\n",
    "\n",
    "4. Define a function named `calculate_order_statistics` that takes `customer_orders` and `products` as parameters. Inside the function, implement the code for calculating the order statistics (total products ordered, and percentage of unique products ordered). The function should return these values.\n",
    "\n",
    "5. Define a function named `print_order_statistics` that takes `order_statistics` as a parameter. Inside the function, implement the code for printing the order statistics.\n",
    "\n",
    "6. Define a function named `print_updated_inventory` that takes `inventory` as a parameter. Inside the function, implement the code for printing the updated inventory.\n",
    "\n",
    "7. Call the functions in the appropriate sequence to execute the program and manage customer orders.\n",
    "\n",
    "Hints for functions:\n",
    "\n",
    "- Consider the input parameters required for each function and their return values.\n",
    "- Utilize function parameters and return values to transfer data between functions.\n",
    "- Test your functions individually to ensure they work correctly.\n",
    "\n",
    "\n"
   ]
  },
  {
   "cell_type": "markdown",
   "id": "cc127050",
   "metadata": {},
   "source": [
    "1. Define a function named `initialize_inventory` that takes `products` as a parameter. Inside the function, implement the code for initializing the inventory dictionary using a loop and user input."
   ]
  },
  {
   "cell_type": "code",
   "execution_count": 73,
   "id": "5271a174",
   "metadata": {},
   "outputs": [],
   "source": [
    "inventory = dict()\n",
    "products = [\"t-shirt\", \"mug\", \"hat\", \"book\", \"keychain\"]"
   ]
  },
  {
   "cell_type": "code",
   "execution_count": 74,
   "id": "d99e14a2",
   "metadata": {},
   "outputs": [],
   "source": [
    "def initialize_inventory(products):\n",
    "\n",
    "    for item in products:\n",
    "        available_inventory = int(input(f\"Please write the quantity available of {item} in the inventory: \"))\n",
    "        inventory[item] = available_inventory\n",
    "    return (inventory)"
   ]
  },
  {
   "cell_type": "code",
   "execution_count": 75,
   "id": "d738936c",
   "metadata": {},
   "outputs": [
    {
     "name": "stdout",
     "output_type": "stream",
     "text": [
      "Please write the quantity available of t-shirt in the inventory: 10\n",
      "Please write the quantity available of mug in the inventory: 10\n",
      "Please write the quantity available of hat in the inventory: 10\n",
      "Please write the quantity available of book in the inventory: 10\n",
      "Please write the quantity available of keychain in the inventory: 10\n"
     ]
    }
   ],
   "source": [
    "inventory_inicial = initialize_inventory(products)"
   ]
  },
  {
   "cell_type": "code",
   "execution_count": 76,
   "id": "4861cb26",
   "metadata": {
    "scrolled": true
   },
   "outputs": [
    {
     "name": "stdout",
     "output_type": "stream",
     "text": [
      "{'t-shirt': 10, 'mug': 10, 'hat': 10, 'book': 10, 'keychain': 10}\n"
     ]
    }
   ],
   "source": [
    "print(inventory)"
   ]
  },
  {
   "cell_type": "code",
   "execution_count": 77,
   "id": "1c007d41",
   "metadata": {},
   "outputs": [
    {
     "name": "stdout",
     "output_type": "stream",
     "text": [
      "{'t-shirt': 10, 'mug': 10, 'hat': 10, 'book': 10, 'keychain': 10}\n"
     ]
    }
   ],
   "source": [
    "print(inventory_inicial)"
   ]
  },
  {
   "cell_type": "markdown",
   "id": "f006f526",
   "metadata": {},
   "source": [
    "2. Define a function named `get_customer_orders` that takes no parameters. Inside the function, implement the code for prompting the user to enter the product names using a loop. The function should return the `customer_orders` set."
   ]
  },
  {
   "cell_type": "code",
   "execution_count": 80,
   "id": "6ffd0f24",
   "metadata": {},
   "outputs": [],
   "source": [
    "customer_orders = set()"
   ]
  },
  {
   "cell_type": "code",
   "execution_count": 81,
   "id": "5a15b435",
   "metadata": {},
   "outputs": [
    {
     "name": "stdout",
     "output_type": "stream",
     "text": [
      "['t-shirt', 'mug', 'hat', 'book', 'keychain']\n"
     ]
    }
   ],
   "source": [
    "list_inventory_keys = list(inventory.keys())\n",
    "print(list_inventory_keys)"
   ]
  },
  {
   "cell_type": "code",
   "execution_count": 82,
   "id": "5461b44f",
   "metadata": {},
   "outputs": [],
   "source": [
    "def get_customer_orders():\n",
    "\n",
    "    question1 = input(\"Please write the type of product you would like to order: \")\n",
    "\n",
    "    while question1 not in list_inventory_keys:\n",
    "        print(\"This item is not part of our inventory. Please try again!\")\n",
    "        question1 = input(\"Please write the type of product you would like to order: \")\n",
    "\n",
    "    customer_orders.add(question1)\n",
    "\n",
    "    question2 = input(\"Would you like to add a new product? Please write 1 if YES or 0 if NOT: \")\n",
    "\n",
    "    while question2 == \"1\":\n",
    "        question1 = input(\"Please write the type of product you would like to order: \")\n",
    "\n",
    "        while question1 not in list_inventory_keys:\n",
    "            print(\"This item is not part of our inventory. Please try again!\")\n",
    "            question1 = input(\"Please write the type of product you would like to order: \")\n",
    "\n",
    "        customer_orders.add(question1) \n",
    "        question2 = input(\"Would you like to add a new product? Please write 1 if YES or 0 if NOT: \")\n",
    "\n",
    "    else:\n",
    "        return(customer_orders)"
   ]
  },
  {
   "cell_type": "code",
   "execution_count": 84,
   "id": "a8e22086",
   "metadata": {},
   "outputs": [
    {
     "name": "stdout",
     "output_type": "stream",
     "text": [
      "Please write the type of product you would like to order: hat\n",
      "Would you like to add a new product? Please write 1 if YES or 0 if NOT: 1\n",
      "Please write the type of product you would like to order: book\n",
      "Would you like to add a new product? Please write 1 if YES or 0 if NOT: 0\n"
     ]
    }
   ],
   "source": [
    "customer_orders = get_customer_orders()"
   ]
  },
  {
   "cell_type": "markdown",
   "id": "1c2537c8",
   "metadata": {},
   "source": [
    "3. Define a function named `update_inventory` that takes `customer_orders` and `inventory` as parameters. Inside the function, implement the code for updating the inventory dictionary based on the customer orders."
   ]
  },
  {
   "cell_type": "code",
   "execution_count": 85,
   "id": "dfe6d610",
   "metadata": {},
   "outputs": [],
   "source": [
    "def update_inventory (customer_orders , inventory_inicial):\n",
    "    \n",
    "    for item in customer_orders:\n",
    "        inventory_inicial[item] += 1\n",
    "    return(inventory_inicial)"
   ]
  },
  {
   "cell_type": "code",
   "execution_count": 86,
   "id": "6d571f7f",
   "metadata": {},
   "outputs": [],
   "source": [
    "updated_inventory = update_inventory (customer_orders , inventory_inicial)"
   ]
  },
  {
   "cell_type": "code",
   "execution_count": 87,
   "id": "43a3bc51",
   "metadata": {
    "scrolled": true
   },
   "outputs": [
    {
     "data": {
      "text/plain": [
       "{'book', 'hat'}"
      ]
     },
     "execution_count": 87,
     "metadata": {},
     "output_type": "execute_result"
    }
   ],
   "source": [
    "customer_orders"
   ]
  },
  {
   "cell_type": "code",
   "execution_count": 90,
   "id": "c00f653a",
   "metadata": {},
   "outputs": [
    {
     "data": {
      "text/plain": [
       "{'t-shirt': 10, 'mug': 10, 'hat': 11, 'book': 11, 'keychain': 10}"
      ]
     },
     "execution_count": 90,
     "metadata": {},
     "output_type": "execute_result"
    }
   ],
   "source": [
    "inventory_inicial #Por qué no se quedó grabado \"inventory_inicial\"?"
   ]
  },
  {
   "cell_type": "code",
   "execution_count": 89,
   "id": "d130160c",
   "metadata": {},
   "outputs": [
    {
     "data": {
      "text/plain": [
       "{'t-shirt': 10, 'mug': 10, 'hat': 11, 'book': 11, 'keychain': 10}"
      ]
     },
     "execution_count": 89,
     "metadata": {},
     "output_type": "execute_result"
    }
   ],
   "source": [
    "updated_inventory"
   ]
  },
  {
   "cell_type": "markdown",
   "id": "84971a81",
   "metadata": {},
   "source": [
    "4. Define a function named `calculate_order_statistics` that takes `customer_orders` and `products` as parameters. Inside the function, implement the code for calculating the order statistics (total products ordered, and percentage of unique products ordered). The function should return these values."
   ]
  },
  {
   "cell_type": "code",
   "execution_count": 91,
   "id": "001e6ebc",
   "metadata": {},
   "outputs": [],
   "source": [
    "def calculate_order_statistics(customer_orders , products):\n",
    "    \n",
    "    Total_Ordered = len(customer_orders)\n",
    "    Total_Inventory_unique = len(products) #number of keys available in the dictionary \n",
    "    Percentage_ordered_unique = round(Total_Ordered/Total_Inventory_unique *100,2)\n",
    "    \n",
    "    return(Total_Ordered , Percentage_ordered_unique)"
   ]
  },
  {
   "cell_type": "code",
   "execution_count": 92,
   "id": "f054bddd",
   "metadata": {},
   "outputs": [],
   "source": [
    "Total_Ordered , Percentage_ordered_unique = calculate_order_statistics (customer_orders , products)"
   ]
  },
  {
   "cell_type": "code",
   "execution_count": 93,
   "id": "9d68f2d5",
   "metadata": {},
   "outputs": [
    {
     "name": "stdout",
     "output_type": "stream",
     "text": [
      "2\n",
      "40.0\n"
     ]
    }
   ],
   "source": [
    "print(Total_Ordered)\n",
    "print(Percentage_ordered_unique)"
   ]
  },
  {
   "cell_type": "markdown",
   "id": "1d5f413a",
   "metadata": {},
   "source": [
    "5. Define a function named `print_order_statistics` that takes `order_statistics` as a parameter. Inside the function, implement the code for printing the order statistics."
   ]
  },
  {
   "cell_type": "code",
   "execution_count": 94,
   "id": "97f111e5",
   "metadata": {},
   "outputs": [],
   "source": [
    "order_statistics = (Total_Ordered , Percentage_ordered_unique)"
   ]
  },
  {
   "cell_type": "code",
   "execution_count": 95,
   "id": "6880e98f",
   "metadata": {},
   "outputs": [
    {
     "data": {
      "text/plain": [
       "(2, 40.0)"
      ]
     },
     "execution_count": 95,
     "metadata": {},
     "output_type": "execute_result"
    }
   ],
   "source": [
    "order_statistics "
   ]
  },
  {
   "cell_type": "code",
   "execution_count": 96,
   "id": "14843285",
   "metadata": {},
   "outputs": [],
   "source": [
    "def print_order_statistics(order_statistics):\n",
    "    Format = (\"Total Products Ordered:\",\"Percentage of Products Ordered:\")\n",
    "    print(\"Order Statistics:\")\n",
    "    for i in zip (Format, order_statistics):\n",
    "        print(i)"
   ]
  },
  {
   "cell_type": "code",
   "execution_count": 97,
   "id": "eb28e082",
   "metadata": {},
   "outputs": [
    {
     "name": "stdout",
     "output_type": "stream",
     "text": [
      "Order Statistics:\n",
      "('Total Products Ordered:', 2)\n",
      "('Percentage of Products Ordered:', 40.0)\n"
     ]
    }
   ],
   "source": [
    "print_order_statistics(order_statistics)"
   ]
  },
  {
   "cell_type": "markdown",
   "id": "f15c4866",
   "metadata": {},
   "source": [
    "6. Define a function named `print_updated_inventory` that takes `inventory` as a parameter. Inside the function, implement the code for printing the updated inventory."
   ]
  },
  {
   "cell_type": "code",
   "execution_count": 111,
   "id": "38b0454c",
   "metadata": {},
   "outputs": [],
   "source": [
    "def print_updated_inventory (inventory):\n",
    "    print(f\"The updated inventory is the following: {updated_inventory}\")"
   ]
  },
  {
   "cell_type": "code",
   "execution_count": 112,
   "id": "08ecfe7d",
   "metadata": {
    "scrolled": true
   },
   "outputs": [
    {
     "name": "stdout",
     "output_type": "stream",
     "text": [
      "The updated inventory is the following: {'t-shirt': 10, 'mug': 11, 'hat': 11, 'book': 11, 'keychain': 10}\n"
     ]
    }
   ],
   "source": [
    "print_updated_inventory(inventory)"
   ]
  },
  {
   "cell_type": "code",
   "execution_count": 113,
   "id": "f560aaec",
   "metadata": {},
   "outputs": [
    {
     "name": "stdout",
     "output_type": "stream",
     "text": [
      "The updated inventory is the following: {'t-shirt': 10, 'mug': 11, 'hat': 11, 'book': 11, 'keychain': 10}\n"
     ]
    }
   ],
   "source": [
    "print_updated_inventory(updated_inventory)"
   ]
  },
  {
   "cell_type": "code",
   "execution_count": 114,
   "id": "bae30a02",
   "metadata": {},
   "outputs": [
    {
     "name": "stdout",
     "output_type": "stream",
     "text": [
      "The updated inventory is the following: {'t-shirt': 10, 'mug': 11, 'hat': 11, 'book': 11, 'keychain': 10}\n"
     ]
    }
   ],
   "source": [
    "print_updated_inventory(inventory_inicial)"
   ]
  },
  {
   "cell_type": "markdown",
   "id": "6e6a65f3",
   "metadata": {},
   "source": [
    "7. Call the functions in the appropriate sequence to execute the program and manage customer orders."
   ]
  },
  {
   "cell_type": "code",
   "execution_count": 115,
   "id": "b81edd5c",
   "metadata": {},
   "outputs": [
    {
     "name": "stdout",
     "output_type": "stream",
     "text": [
      "Please write the quantity available of t-shirt in the inventory: 10\n",
      "Please write the quantity available of mug in the inventory: 10\n",
      "Please write the quantity available of hat in the inventory: 10\n",
      "Please write the quantity available of book in the inventory: 10\n",
      "Please write the quantity available of keychain in the inventory: 10\n",
      "Please write the type of product you would like to order: hat\n",
      "Would you like to add a new product? Please write 1 if YES or 0 if NOT: 1\n",
      "Please write the type of product you would like to order: book\n",
      "Would you like to add a new product? Please write 1 if YES or 0 if NOT: 0\n",
      "Order Statistics:\n",
      "('Total Products Ordered:', 2)\n",
      "('Percentage of Products Ordered:', 40.0)\n",
      "The updated inventory is the following: {'t-shirt': 10, 'mug': 11, 'hat': 11, 'book': 11, 'keychain': 10}\n"
     ]
    }
   ],
   "source": [
    "initialize_inventory(products)\n",
    "get_customer_orders()\n",
    "update_inventory (customer_orders , inventory_inicial)\n",
    "calculate_order_statistics(customer_orders , products)\n",
    "print_order_statistics(order_statistics)\n",
    "print_updated_inventory (inventory)"
   ]
  }
 ],
 "metadata": {
  "kernelspec": {
   "display_name": "Python 3 (ipykernel)",
   "language": "python",
   "name": "python3"
  },
  "language_info": {
   "codemirror_mode": {
    "name": "ipython",
    "version": 3
   },
   "file_extension": ".py",
   "mimetype": "text/x-python",
   "name": "python",
   "nbconvert_exporter": "python",
   "pygments_lexer": "ipython3",
   "version": "3.11.7"
  }
 },
 "nbformat": 4,
 "nbformat_minor": 5
}
